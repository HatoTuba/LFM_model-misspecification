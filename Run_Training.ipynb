{
 "cells": [
  {
   "cell_type": "code",
   "execution_count": null,
   "id": "03c49c11",
   "metadata": {},
   "outputs": [],
   "source": [
    "# Setting up cython\n",
    "import ctypes\n",
    "from numba.extending import get_cython_function_address\n",
    "from simulators import levy\n",
    "from tqdm import tqdm\n",
    "\n",
    "# python setup_standard_levy.py build_ext --inplace\n",
    "\n",
    "# Get a pointer to the C function levy.c\n",
    "addr_levy= get_cython_function_address(\"levy\", \"levy_trial\")\n",
    "functype = ctypes.CFUNCTYPE(ctypes.c_double, ctypes.c_double, ctypes.c_double,                            \n",
    "                            ctypes.c_double, ctypes.c_double, ctypes.c_double,\n",
    "                            ctypes.c_double, ctypes.c_int)\n",
    "levy_trial = functype(addr_levy)"
   ]
  },
  {
   "cell_type": "code",
   "execution_count": null,
   "id": "df08a34c",
   "metadata": {},
   "outputs": [],
   "source": [
    "import os, sys\n",
    "sys.path.append(\"../\")\n",
    "sys.path.append(\"../DDM_LF_simstudy/simulators\") \n",
    "# Get rid of annoying tf warning\n",
    "import os\n",
    "os.environ['TF_CPP_MIN_LOG_LEVEL'] = '3'\n",
    "\n",
    "import numpy as np\n",
    "np.set_printoptions(suppress=True)\n",
    "from functools import partial\n",
    "import sys, os, scipy\n",
    "import seaborn as sns\n",
    "import tensorflow as tf\n",
    "import bayesflow as bf\n",
    "import pickle, Cython\n",
    "from tqdm import tqdm\n",
    "from tensorflow.keras.backend import clear_session\n",
    "\n",
    "############################################\n",
    "from data_simulation import generate_training_data, simulate_data, simulate_data_fix_alpha\n",
    "from train_networks import train_network_offline, train_network_online\n",
    "from get_setup import get_setup\n",
    "from configurations import get_params, configure_splitting\n",
    "from fit_models import fit_models, fit_model_splitted_data\n",
    "from create_plots import diagnostic_plots#, plot_bias, plot_recovery, compare_estimates"
   ]
  },
  {
   "cell_type": "code",
   "execution_count": null,
   "id": "5300146a",
   "metadata": {},
   "outputs": [],
   "source": [
    "MODELS = (\"standard_ddm\",\"standard_levy\")\n",
    "MODELS_FULL = (\"full_ddm\", \"full_levy\")"
   ]
  },
  {
   "cell_type": "code",
   "execution_count": null,
   "id": "f970ebee",
   "metadata": {
    "scrolled": true
   },
   "outputs": [],
   "source": [
    "# STANDARD MODELS\n",
    "# simulate data for model fit\n",
    "simulate_data(models=MODELS, num_sim=NUM_SIM)\n",
    "NUM_TRAIN=100000\n",
    "NUM_VAL=50\n",
    "generate_training_data(models=MODELS, num_train=NUM_TRAIN, num_val=NUM_VAL)"
   ]
  },
  {
   "cell_type": "code",
   "execution_count": null,
   "id": "8ca9a52e",
   "metadata": {},
   "outputs": [],
   "source": [
    "# offline training standard models\n",
    "# loss function plot will be saved as png\n",
    "train_network_offline(models=MODELS)"
   ]
  },
  {
   "cell_type": "code",
   "execution_count": null,
   "id": "2e53fb1b",
   "metadata": {},
   "outputs": [],
   "source": [
    "# FULL MODELS\n",
    "NUM_TRAIN=100000\n",
    "NUM_VAL=50\n",
    "generate_training_data(models=MODELS_FULL, num_train=NUM_TRAIN, num_val=NUM_VAL)"
   ]
  },
  {
   "cell_type": "code",
   "execution_count": null,
   "id": "3aa4d04f",
   "metadata": {
    "scrolled": true
   },
   "outputs": [],
   "source": [
    "# offline training full models\n",
    "# loss function plot will be saved as png\n",
    "train_network_offline(models=MODELS_FULL)"
   ]
  },
  {
   "cell_type": "code",
   "execution_count": null,
   "id": "be8a7141",
   "metadata": {
    "scrolled": false
   },
   "outputs": [],
   "source": [
    "# Plot diagnostics for network models: Standard Models\n",
    "diagnostic_plots(models=MODELS)"
   ]
  },
  {
   "cell_type": "code",
   "execution_count": null,
   "id": "2aaa730c",
   "metadata": {
    "scrolled": false
   },
   "outputs": [],
   "source": [
    "diagnostic_plots(MODELS_FULL)"
   ]
  },
  {
   "cell_type": "code",
   "execution_count": null,
   "id": "4b469b1f",
   "metadata": {
    "scrolled": true
   },
   "outputs": [],
   "source": [
    "# Plot diagnostics for networks: Full Models\n",
    "# diagnostic_plots(models=MODELS_FULL)"
   ]
  },
  {
   "cell_type": "code",
   "execution_count": null,
   "id": "2edd0830",
   "metadata": {},
   "outputs": [],
   "source": [
    "# simulate data for model fit: Standard & Full models\n",
    "NUM_SIM=1000\n",
    "simulate_data(models=MODELS, num_sim=NUM_SIM)\n",
    "simulate_data(models=MODELS_FULL, num_sim=NUM_SIM)"
   ]
  },
  {
   "cell_type": "code",
   "execution_count": null,
   "id": "9cbe218b",
   "metadata": {},
   "outputs": [],
   "source": [
    "# model fitting: Standard\n",
    "fit_models(models=MODELS)"
   ]
  },
  {
   "cell_type": "code",
   "execution_count": null,
   "id": "03570862",
   "metadata": {},
   "outputs": [],
   "source": [
    "# model fitting: Full\n",
    "fit_models(models=MODELS_FULL)"
   ]
  }
 ],
 "metadata": {
  "kernelspec": {
   "display_name": "Python 3 (ipykernel)",
   "language": "python",
   "name": "python3"
  },
  "language_info": {
   "codemirror_mode": {
    "name": "ipython",
    "version": 3
   },
   "file_extension": ".py",
   "mimetype": "text/x-python",
   "name": "python",
   "nbconvert_exporter": "python",
   "pygments_lexer": "ipython3",
   "version": "3.10.11"
  }
 },
 "nbformat": 4,
 "nbformat_minor": 5
}
